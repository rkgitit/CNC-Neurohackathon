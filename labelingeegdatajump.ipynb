{
 "cells": [
  {
   "cell_type": "code",
   "execution_count": 421,
   "id": "ddcc9cf8-31ea-4f7c-94cb-84b0e2379059",
   "metadata": {},
   "outputs": [],
   "source": [
    "import numpy as np\n",
    "import pandas as pd\n",
    "from scipy.signal import butter, lfilter\n",
    "from sklearn.feature_extraction import DictVectorizer\n",
    "from sklearn.model_selection import train_test_split\n",
    "from sklearn.ensemble import RandomForestClassifier\n",
    "from sklearn.metrics import classification_report"
   ]
  },
  {
   "cell_type": "code",
   "execution_count": 423,
   "id": "0554ec66-b3ec-4461-9f4f-a04ae07e7cdf",
   "metadata": {},
   "outputs": [],
   "source": [
    "# Load OpenBCI CSV with no header\n",
    "df = pd.read_csv('BrainFlow-RAW_JUMP_0.csv', header=None, delimiter = '\\t')\n",
    "\n",
    "# EEG = columns 1–8 (0-indexed)\n",
    "eeg = df.iloc[:, 1:9].values.astype(float)\n",
    "\n",
    "accel = df.iloc[:, 9:12].values.astype(float)\n",
    "timestamps = df.iloc[:, 22].values\n",
    "\n",
    "# Handle bad offset: remove mean per channel\n",
    "eeg = eeg - np.mean(eeg, axis=0)"
   ]
  },
  {
   "cell_type": "code",
   "execution_count": 425,
   "id": "4143b0d3-410d-492f-a454-8bbbf2d3f168",
   "metadata": {},
   "outputs": [],
   "source": [
    "def butter_bandpass(lowcut, highcut, fs, order=4):\n",
    "    nyq = 0.5 * fs\n",
    "    return butter(order, [lowcut / nyq, highcut / nyq], btype='band')\n",
    "\n",
    "def bandpass_filter(data, lowcut=0.5, highcut=40.0, fs=250.0, order=4):\n",
    "    b, a = butter_bandpass(lowcut, highcut, fs, order=order)\n",
    "    return lfilter(b, a, data, axis=0)\n",
    "\n",
    "fs = 250  # Hz sample rate\n",
    "filtered_eeg = bandpass_filter(eeg, fs=fs)"
   ]
  },
  {
   "cell_type": "code",
   "execution_count": 427,
   "id": "cefade11-b35d-4da8-8c4f-2206bee21e98",
   "metadata": {},
   "outputs": [],
   "source": [
    "nod_interval_sec = 5\n",
    "nod_duration_sec = 1\n",
    "labels_nod = np.zeros(len(eeg))\n",
    "\n",
    "for start in range(0, len(eeg), nod_interval_sec * fs):\n",
    "    end = start + nod_duration_sec * fs\n",
    "    if end <= len(labels_nod):\n",
    "        labels_nod[start:end] = 1"
   ]
  },
  {
   "cell_type": "code",
   "execution_count": 429,
   "id": "0a9f2660-5532-49bf-b720-920305545455",
   "metadata": {},
   "outputs": [],
   "source": [
    "def extract_features(window):\n",
    "    feats = {}\n",
    "    for i in range(window.shape[1]):\n",
    "        ch = window[:, i]\n",
    "        feats[f'ch{i}_mean'] = np.mean(ch)\n",
    "        feats[f'ch{i}_std'] = np.std(ch)\n",
    "        feats[f'ch{i}_rms'] = np.sqrt(np.mean(ch**2))\n",
    "    return feats\n",
    "\n",
    "win_size = fs  # 1 second\n",
    "stride = int(fs * 0.5)  # 50% overlap\n",
    "\n",
    "X = []\n",
    "y = []\n",
    "\n",
    "for start in range(0, len(filtered_eeg) - win_size, stride):\n",
    "    end = start + win_size\n",
    "    window = filtered_eeg[start:end]\n",
    "    label = \"nod\" if np.any(labels_nod[start:end]) else \"nothing\"\n",
    "    feats = extract_features(window)\n",
    "    X.append(feats)\n",
    "    y.append(label)"
   ]
  },
  {
   "cell_type": "code",
   "execution_count": 431,
   "id": "ca115b19-d650-4696-bac6-8df295d7d15b",
   "metadata": {},
   "outputs": [],
   "source": [
    "# Load OpenBCI CSV with no header\n",
    "df2 = pd.read_csv('BrainFlow-RAW_DOUBLEBLINK_0.csv', header=None, delimiter = '\\t')\n",
    "\n",
    "# EEG = columns 1–8 (0-indexed)\n",
    "eeg2 = df2.iloc[:, 1:9].values.astype(float)\n",
    "\n",
    "accel2 = df2.iloc[:, 9:12].values.astype(float)\n",
    "timestamps2 = df2.iloc[:, 22].values\n",
    "\n",
    "# Handle bad offset: remove mean per channel\n",
    "eeg2 = eeg2 - np.mean(eeg2, axis=0)"
   ]
  },
  {
   "cell_type": "code",
   "execution_count": 433,
   "id": "805228fb-a0e3-4574-954b-bf6e8e4b3a52",
   "metadata": {},
   "outputs": [],
   "source": [
    "fs = 250  # Hz sample rate\n",
    "filtered_eeg2 = bandpass_filter(eeg2, fs=fs)"
   ]
  },
  {
   "cell_type": "code",
   "execution_count": 435,
   "id": "d9d250ca-e047-45ae-aec3-9f02aa7de9ac",
   "metadata": {},
   "outputs": [],
   "source": [
    "blink_interval_sec = 5\n",
    "blink_duration_sec = 1\n",
    "labels_blink = np.zeros(len(eeg2))\n",
    "\n",
    "for start in range(0, len(eeg2), blink_interval_sec * fs):\n",
    "    end = start + blink_duration_sec * fs\n",
    "    if end <= len(labels_blink):\n",
    "        labels_blink[start:end] = 1\n",
    "win_size = fs  # 1 second\n",
    "stride = int(fs * 0.5)  # 50% overlap\n",
    "\n",
    "for start in range(0, len(filtered_eeg2) - win_size, stride):\n",
    "    end = start + win_size\n",
    "    window = filtered_eeg2[start:end]\n",
    "    label = \"blink\" if np.any(labels_blink[start:end]) else \"nothing\"\n",
    "    feats = extract_features(window)\n",
    "    X.append(feats)\n",
    "    y.append(label)\n",
    "\n",
    "vec = DictVectorizer()\n",
    "X = vec.fit_transform(X).toarray()\n",
    "y = np.array(y)"
   ]
  },
  {
   "cell_type": "code",
   "execution_count": 437,
   "id": "49028936-2b82-4fd8-9ddd-cb12a9651c77",
   "metadata": {},
   "outputs": [
    {
     "name": "stdout",
     "output_type": "stream",
     "text": [
      "['nod' 'nothing' 'nothing' 'nothing' 'nothing' 'nothing' 'nothing'\n",
      " 'nothing' 'nothing' 'nothing' 'nothing' 'blink' 'nothing' 'nothing'\n",
      " 'nothing' 'nothing' 'nothing' 'nothing' 'nothing' 'blink' 'nothing'\n",
      " 'nothing' 'nothing' 'nothing' 'nothing' 'nothing' 'blink' 'nothing'\n",
      " 'blink' 'nothing' 'nothing' 'nothing' 'nothing' 'nothing' 'nothing'\n",
      " 'nothing' 'blink' 'nod' 'nod' 'nothing' 'nod' 'nod' 'nothing' 'blink'\n",
      " 'nothing' 'nothing' 'nothing' 'nothing' 'nothing' 'blink' 'nothing'\n",
      " 'nothing' 'nod' 'nothing' 'nothing' 'nothing' 'nothing' 'nothing'\n",
      " 'nothing' 'nothing' 'blink' 'nothing' 'nothing' 'nothing' 'nothing'\n",
      " 'nothing' 'nod' 'nod' 'nothing' 'nothing' 'nothing' 'nothing' 'nothing'\n",
      " 'nothing' 'nothing' 'nothing' 'nothing' 'nothing' 'nothing' 'nothing'\n",
      " 'nothing' 'nothing' 'nothing' 'nothing' 'nod' 'nothing' 'nothing'\n",
      " 'nothing' 'blink' 'nothing' 'nothing' 'nothing' 'nothing' 'nothing'\n",
      " 'blink' 'nothing' 'blink' 'nothing' 'nothing' 'nothing']\n",
      "              precision    recall  f1-score   support\n",
      "\n",
      "       blink       0.55      0.40      0.46        15\n",
      "         nod       0.67      0.40      0.50        15\n",
      "     nothing       0.78      0.89      0.83        70\n",
      "\n",
      "    accuracy                           0.74       100\n",
      "   macro avg       0.66      0.56      0.60       100\n",
      "weighted avg       0.72      0.74      0.72       100\n",
      "\n"
     ]
    }
   ],
   "source": [
    "X_train, X_test, y_train, y_test = train_test_split(X, y, test_size=0.2, stratify=y)\n",
    "\n",
    "clf = RandomForestClassifier(n_estimators=100, random_state=42)\n",
    "clf.fit(X_train, y_train)\n",
    "\n",
    "y_pred = clf.predict(X_test)\n",
    "print(y_pred)\n",
    "print(classification_report(y_test, y_pred))"
   ]
  },
  {
   "cell_type": "code",
   "execution_count": 445,
   "id": "870f56be-4467-4646-a8e3-f75595999caa",
   "metadata": {},
   "outputs": [],
   "source": [
    "dfX = pd.DataFrame(X)\n",
    "dfY = pd.DataFrame(y)\n",
    "\n",
    "dfX.to_csv('eeg_dataset_input.csv', index=False)\n",
    "dfY.to_csv('eeg_labels.csv', index=False)"
   ]
  },
  {
   "cell_type": "code",
   "execution_count": null,
   "id": "a33d28b5-2814-48ae-bdcd-f902be186338",
   "metadata": {},
   "outputs": [],
   "source": []
  },
  {
   "cell_type": "code",
   "execution_count": null,
   "id": "3ae6737c-7e65-4547-a95a-82a68ff15d70",
   "metadata": {},
   "outputs": [],
   "source": []
  }
 ],
 "metadata": {
  "kernelspec": {
   "display_name": "Python 3 (ipykernel)",
   "language": "python",
   "name": "python3"
  },
  "language_info": {
   "codemirror_mode": {
    "name": "ipython",
    "version": 3
   },
   "file_extension": ".py",
   "mimetype": "text/x-python",
   "name": "python",
   "nbconvert_exporter": "python",
   "pygments_lexer": "ipython3",
   "version": "3.11.7"
  }
 },
 "nbformat": 4,
 "nbformat_minor": 5
}
